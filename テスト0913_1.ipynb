{
  "nbformat": 4,
  "nbformat_minor": 0,
  "metadata": {
    "colab": {
      "provenance": [],
      "authorship_tag": "ABX9TyOn5w0FXw4vuiJCwOQ0FZGz",
      "include_colab_link": true
    },
    "kernelspec": {
      "name": "python3",
      "display_name": "Python 3"
    },
    "language_info": {
      "name": "python"
    }
  },
  "cells": [
    {
      "cell_type": "markdown",
      "metadata": {
        "id": "view-in-github",
        "colab_type": "text"
      },
      "source": [
        "<a href=\"https://colab.research.google.com/github/greatjapanese/DeepLearningLate/blob/main/%E3%83%86%E3%82%B9%E3%83%880913_1.ipynb\" target=\"_parent\"><img src=\"https://colab.research.google.com/assets/colab-badge.svg\" alt=\"Open In Colab\"/></a>"
      ]
    },
    {
      "cell_type": "code",
      "execution_count": null,
      "metadata": {
        "id": "I83zUw6sUGWp"
      },
      "outputs": [],
      "source": []
    },
    {
      "cell_type": "markdown",
      "source": [],
      "metadata": {
        "id": "hfgszN10UvV1"
      }
    },
    {
      "cell_type": "markdown",
      "source": [
        "#リスト型とタプル型\n",
        "##リストとタプル\n"
      ],
      "metadata": {
        "id": "7KhqS-rnUvcn"
      }
    },
    {
      "cell_type": "code",
      "source": [
        "#リスト\n",
        "list = ['アップル','ペン','ペン','パイナップル',]\n",
        "print(list)\n",
        "print(list[1]+list[2])"
      ],
      "metadata": {
        "colab": {
          "base_uri": "https://localhost:8080/"
        },
        "id": "mnD8MkD3U_jv",
        "outputId": "829132e9-672a-4e21-9fec-f919a0240484"
      },
      "execution_count": 3,
      "outputs": [
        {
          "output_type": "stream",
          "name": "stdout",
          "text": [
            "['アップル', 'ペン', 'ペン', 'パイナップル']\n",
            "ペンペン\n"
          ]
        }
      ]
    },
    {
      "cell_type": "code",
      "source": [
        "#タプル\n",
        "tuple = ('アップル','ペン','ペン','パイナップル')\n",
        "print(tuple)\n",
        "print(tuple[1] + tuple[2])"
      ],
      "metadata": {
        "colab": {
          "base_uri": "https://localhost:8080/"
        },
        "id": "QWcxHHKjVFN_",
        "outputId": "f5de7163-185c-4e67-ed64-98a5ed1463ed"
      },
      "execution_count": 4,
      "outputs": [
        {
          "output_type": "stream",
          "name": "stdout",
          "text": [
            "('アップル', 'ペン', 'ペン', 'パイナップル')\n",
            "ペンペン\n"
          ]
        }
      ]
    },
    {
      "cell_type": "code",
      "source": [
        "print(list)\n",
        "list.append(100)\n",
        "print(list)\n",
        "del list[2]\n",
        "print(list)"
      ],
      "metadata": {
        "colab": {
          "base_uri": "https://localhost:8080/"
        },
        "id": "pT-Cfs0zVGQi",
        "outputId": "ffe9ad8a-fdee-4690-ca7e-d70cedf2f581"
      },
      "execution_count": 7,
      "outputs": [
        {
          "output_type": "stream",
          "name": "stdout",
          "text": [
            "['アップル', 'ペン', 'ペン', 'パイナップル', 100]\n",
            "['アップル', 'ペン', 'ペン', 'パイナップル', 100, 100]\n",
            "['アップル', 'ペン', 'パイナップル', 100, 100]\n"
          ]
        }
      ]
    },
    {
      "cell_type": "code",
      "source": [
        "list[3] = 'ペン'\n",
        "print(list)"
      ],
      "metadata": {
        "colab": {
          "base_uri": "https://localhost:8080/"
        },
        "id": "tTh1ng7MXodz",
        "outputId": "bc3396b9-83d0-4c54-cbe3-a7f8bd564bc2"
      },
      "execution_count": 8,
      "outputs": [
        {
          "output_type": "stream",
          "name": "stdout",
          "text": [
            "['アップル', 'ペン', 'パイナップル', 'ペン', 100]\n"
          ]
        }
      ]
    },
    {
      "cell_type": "code",
      "source": [
        "list.insert(2,'ペン')\n",
        "print(list)"
      ],
      "metadata": {
        "colab": {
          "base_uri": "https://localhost:8080/"
        },
        "id": "4qURvVNVZyua",
        "outputId": "8857ed89-64a9-472b-bfb6-9923eb721241"
      },
      "execution_count": 9,
      "outputs": [
        {
          "output_type": "stream",
          "name": "stdout",
          "text": [
            "['アップル', 'ペン', 'ペン', 'パイナップル', 'ペン', 100]\n"
          ]
        }
      ]
    },
    {
      "cell_type": "code",
      "source": [
        "print(len(list))"
      ],
      "metadata": {
        "colab": {
          "base_uri": "https://localhost:8080/"
        },
        "id": "GyinaGcFaa7Z",
        "outputId": "ee4bd045-0f50-49d1-9ae6-703bcfa169ff"
      },
      "execution_count": 10,
      "outputs": [
        {
          "output_type": "stream",
          "name": "stdout",
          "text": [
            "6\n"
          ]
        }
      ]
    },
    {
      "cell_type": "code",
      "source": [
        "print(list[1])"
      ],
      "metadata": {
        "colab": {
          "base_uri": "https://localhost:8080/"
        },
        "id": "VzY4CLPIcGYt",
        "outputId": "a6f1e064-7c73-44df-94b3-25ea4e16c67a"
      },
      "execution_count": 11,
      "outputs": [
        {
          "output_type": "stream",
          "name": "stdout",
          "text": [
            "ペン\n"
          ]
        }
      ]
    },
    {
      "cell_type": "code",
      "source": [
        "print(list[1:3])"
      ],
      "metadata": {
        "colab": {
          "base_uri": "https://localhost:8080/"
        },
        "id": "B1Q3Np9jcibP",
        "outputId": "c5ffab93-dd62-49b0-b404-1e0126a3681c"
      },
      "execution_count": 12,
      "outputs": [
        {
          "output_type": "stream",
          "name": "stdout",
          "text": [
            "['ペン', 'ペン']\n"
          ]
        }
      ]
    },
    {
      "cell_type": "code",
      "source": [
        "uniq = set(['アップル','ペン','ペン','パイナップル'])\n",
        "print(uniq)"
      ],
      "metadata": {
        "colab": {
          "base_uri": "https://localhost:8080/"
        },
        "id": "1xHLDDAMcvYG",
        "outputId": "930d4974-b8ab-4386-9d83-a33b0f944f94"
      },
      "execution_count": 13,
      "outputs": [
        {
          "output_type": "stream",
          "name": "stdout",
          "text": [
            "{'パイナップル', 'アップル', 'ペン'}\n"
          ]
        }
      ]
    },
    {
      "cell_type": "code",
      "source": [
        "print(uniq)\n",
        "uniq.add('バナナ')\n",
        "uniq.remove('ペン')\n",
        "print(uniq)"
      ],
      "metadata": {
        "colab": {
          "base_uri": "https://localhost:8080/",
          "height": 250
        },
        "id": "abkBhHgSgWt-",
        "outputId": "d6b14021-96e6-488b-8eb7-8ff80cb41669"
      },
      "execution_count": 15,
      "outputs": [
        {
          "output_type": "stream",
          "name": "stdout",
          "text": [
            "{'パイナップル', 'バナナ', 'アップル'}\n"
          ]
        },
        {
          "output_type": "error",
          "ename": "KeyError",
          "evalue": "ignored",
          "traceback": [
            "\u001b[0;31m---------------------------------------------------------------------------\u001b[0m",
            "\u001b[0;31mKeyError\u001b[0m                                  Traceback (most recent call last)",
            "\u001b[0;32m<ipython-input-15-9c44c0714242>\u001b[0m in \u001b[0;36m<module>\u001b[0;34m\u001b[0m\n\u001b[1;32m      1\u001b[0m \u001b[0mprint\u001b[0m\u001b[0;34m(\u001b[0m\u001b[0muniq\u001b[0m\u001b[0;34m)\u001b[0m\u001b[0;34m\u001b[0m\u001b[0;34m\u001b[0m\u001b[0m\n\u001b[1;32m      2\u001b[0m \u001b[0muniq\u001b[0m\u001b[0;34m.\u001b[0m\u001b[0madd\u001b[0m\u001b[0;34m(\u001b[0m\u001b[0;34m'バナナ'\u001b[0m\u001b[0;34m)\u001b[0m\u001b[0;34m\u001b[0m\u001b[0;34m\u001b[0m\u001b[0m\n\u001b[0;32m----> 3\u001b[0;31m \u001b[0muniq\u001b[0m\u001b[0;34m.\u001b[0m\u001b[0mremove\u001b[0m\u001b[0;34m(\u001b[0m\u001b[0;34m'ペン'\u001b[0m\u001b[0;34m)\u001b[0m\u001b[0;34m\u001b[0m\u001b[0;34m\u001b[0m\u001b[0m\n\u001b[0m\u001b[1;32m      4\u001b[0m \u001b[0mprint\u001b[0m\u001b[0;34m(\u001b[0m\u001b[0muniq\u001b[0m\u001b[0;34m)\u001b[0m\u001b[0;34m\u001b[0m\u001b[0;34m\u001b[0m\u001b[0m\n",
            "\u001b[0;31mKeyError\u001b[0m: 'ペン'"
          ]
        }
      ]
    },
    {
      "cell_type": "code",
      "source": [
        "uniq = set(['アップル','ペン','ペン','パイナップル'])\n",
        "a = set(['アップル','ペン'])\n",
        "b = set(['ペン','パイナップル'])\n",
        "print(uniq)\n",
        "print(a)\n",
        "print(b)"
      ],
      "metadata": {
        "colab": {
          "base_uri": "https://localhost:8080/"
        },
        "id": "wJKA56GLhaqU",
        "outputId": "07b8240c-2109-49d5-ef79-4a1aec029088"
      },
      "execution_count": 16,
      "outputs": [
        {
          "output_type": "stream",
          "name": "stdout",
          "text": [
            "{'パイナップル', 'アップル', 'ペン'}\n",
            "{'アップル', 'ペン'}\n",
            "{'パイナップル', 'ペン'}\n"
          ]
        }
      ]
    },
    {
      "cell_type": "code",
      "source": [
        "a.issubset(uniq)\n",
        "print(uniq)"
      ],
      "metadata": {
        "colab": {
          "base_uri": "https://localhost:8080/"
        },
        "id": "LuvsXLnqjqmU",
        "outputId": "e5591e41-4648-410d-da95-2ca6b8f87b8a"
      },
      "execution_count": 17,
      "outputs": [
        {
          "output_type": "stream",
          "name": "stdout",
          "text": [
            "{'パイナップル', 'アップル', 'ペン'}\n"
          ]
        }
      ]
    },
    {
      "cell_type": "code",
      "source": [
        "'ペン'in a "
      ],
      "metadata": {
        "colab": {
          "base_uri": "https://localhost:8080/"
        },
        "id": "ZboPHY1wkuN0",
        "outputId": "79ecb39e-f6b4-4606-b23c-2de31096a094"
      },
      "execution_count": 18,
      "outputs": [
        {
          "output_type": "execute_result",
          "data": {
            "text/plain": [
              "True"
            ]
          },
          "metadata": {},
          "execution_count": 18
        }
      ]
    },
    {
      "cell_type": "code",
      "source": [],
      "metadata": {
        "id": "BstrYr9kkw5M"
      },
      "execution_count": null,
      "outputs": []
    }
  ]
}