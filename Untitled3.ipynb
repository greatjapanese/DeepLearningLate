{
  "nbformat": 4,
  "nbformat_minor": 0,
  "metadata": {
    "colab": {
      "provenance": [],
      "authorship_tag": "ABX9TyNcU0G7UGmiM+F3e6393Z4h",
      "include_colab_link": true
    },
    "kernelspec": {
      "name": "python3",
      "display_name": "Python 3"
    },
    "language_info": {
      "name": "python"
    }
  },
  "cells": [
    {
      "cell_type": "markdown",
      "metadata": {
        "id": "view-in-github",
        "colab_type": "text"
      },
      "source": [
        "<a href=\"https://colab.research.google.com/github/greatjapanese/DeepLearningLate/blob/main/Untitled3.ipynb\" target=\"_parent\"><img src=\"https://colab.research.google.com/assets/colab-badge.svg\" alt=\"Open In Colab\"/></a>"
      ]
    },
    {
      "cell_type": "code",
      "execution_count": null,
      "metadata": {
        "id": "vaK_fZbr5Tae"
      },
      "outputs": [],
      "source": []
    },
    {
      "cell_type": "markdown",
      "source": [
        "#Kerasを使用したディープラーニングをやってみる\n",
        "##画像認識を行う"
      ],
      "metadata": {
        "id": "JruFVaZL5VzN"
      }
    },
    {
      "cell_type": "code",
      "source": [
        "%matplotlib inline\n",
        "from keras.applications.vgg16 import VGG16\n",
        "from keras.preprocessing import image\n",
        "from PIL import Image\n",
        "import matplotlib.pyplot as plt\n",
        "import numpy as np\n",
        "import sys"
      ],
      "metadata": {
        "id": "xN5cVLVH5eb_"
      },
      "execution_count": null,
      "outputs": []
    },
    {
      "cell_type": "code",
      "source": [
        "model = VGG16(weights='imagenet')\n"
      ],
      "metadata": {
        "colab": {
          "base_uri": "https://localhost:8080/"
        },
        "id": "TKo6oWPo54pd",
        "outputId": "f7b07ccd-60ab-463f-fee4-7d09b17e523c"
      },
      "execution_count": null,
      "outputs": [
        {
          "output_type": "stream",
          "name": "stdout",
          "text": [
            "Downloading data from https://storage.googleapis.com/tensorflow/keras-applications/vgg16/vgg16_weights_tf_dim_ordering_tf_kernels.h5\n",
            "553467904/553467096 [==============================] - 4s 0us/step\n",
            "553476096/553467096 [==============================] - 4s 0us/step\n"
          ]
        }
      ]
    },
    {
      "cell_type": "code",
      "source": [
        "def predict(filename,featuresize):\n",
        "  img - image.load_img(filename, target_size=(224,224))\n",
        "  x = image.img_to_array(img)\n",
        "  x = np.expand_dims(x,axis=0)\n",
        "  preds = model.predict(preprocess_input(x))\n",
        "  results = decode_predictions(preds, top=featuresize)[0]\n",
        "  return results\n",
        "\n",
        "\n"
      ],
      "metadata": {
        "id": "5zWeIaZ29dQ-"
      },
      "execution_count": null,
      "outputs": []
    },
    {
      "cell_type": "markdown",
      "source": [],
      "metadata": {
        "id": "0_gUGBdj_3Pj"
      }
    },
    {
      "cell_type": "code",
      "source": [
        "def showing(filename,title,i):\n",
        "  im = Image.open(filename)\n",
        "  im_list - np.array(im)\n",
        "  plt.subplot(2,5,i)\n",
        "  plt.title(title)\n",
        "  plt.axis(\"off\")\n",
        "  plt.imshow(im_list)\n"
      ],
      "metadata": {
        "id": "oeOSkJ-tALv_"
      },
      "execution_count": null,
      "outputs": []
    },
    {
      "cell_type": "code",
      "source": [],
      "metadata": {
        "id": "cfejMz7UA0pB"
      },
      "execution_count": null,
      "outputs": []
    },
    {
      "cell_type": "markdown",
      "source": [
        "##kaggeにある画像データを利用する\n",
        "https://www.kaggle.com/\n",
        "##判別用データ\n",
        "https://eee.kaggle.com/c/dogs-vs-cats/data"
      ],
      "metadata": {
        "id": "nbHOt-bABot9"
      }
    },
    {
      "cell_type": "code",
      "source": [
        "!wget"
      ],
      "metadata": {
        "id": "v76xw_bFB6ne",
        "colab": {
          "base_uri": "https://localhost:8080/"
        },
        "outputId": "a647dd1f-ff25-4d51-e23f-fa4cf2dc702f"
      },
      "execution_count": null,
      "outputs": [
        {
          "output_type": "stream",
          "name": "stdout",
          "text": [
            "wget: missing URL\n",
            "Usage: wget [OPTION]... [URL]...\n",
            "\n",
            "Try `wget --help' for more options.\n"
          ]
        }
      ]
    },
    {
      "cell_type": "code",
      "source": [
        "!wget --load-cookies /tmp/cookies.txt \"https://drive.google.com/uc?export=download&confirm=$(wget --quiet --save-cookies /tmp/cookies.txt --keep-session-cookies --no-check-certificate 'https://drive.google.com/uc?export=download&id=1WQ9KZ-St4BqUWkqYJZYBIXQ8tT92DW_2' -O- | sed -rn 's/.*confirm=([0-9A-Za-z_]+).*/\\1\\n/p')&id=1WQ9KZ-St4BqUWkqYJZYBIXQ8tT92DW_2\" -O train.zip && rm -rf /tmp/cookies.txt\n",
        "!wget --load-cookies /tmp/cookies.txt \"https://drive.google.com/uc?export=download&confirm=$(wget --quiet --save-cookies /tmp/cookies.txt --keep-session-cookies --no-check-certificate 'https://drive.google.com/uc?export=download&id=1WQ9KZ-St4BqUWkqYJZYBIXQ8tT92DW_2' -O- | sed -rn 's/.*confirm=([0-9A-Za-z_]+).*/\\1\\n/p')&id=1WQ9KZ-St4BqUWkqYJZYBIXQ8tT92DW_2\" -O test.zip && rm -rf /tmp/cookies.txt\n"
      ],
      "metadata": {
        "colab": {
          "base_uri": "https://localhost:8080/"
        },
        "id": "3RmQvlzAvHyZ",
        "outputId": "4723ddd9-c450-4d89-ea2c-6ffb5408b399"
      },
      "execution_count": null,
      "outputs": [
        {
          "output_type": "stream",
          "name": "stdout",
          "text": [
            "--2022-10-03 03:41:52--  https://drive.google.com/uc?export=download&confirm=t&id=1WQ9KZ-St4BqUWkqYJZYBIXQ8tT92DW_2\n",
            "Resolving drive.google.com (drive.google.com)... 173.194.203.100, 173.194.203.139, 173.194.203.113, ...\n",
            "Connecting to drive.google.com (drive.google.com)|173.194.203.100|:443... connected.\n",
            "HTTP request sent, awaiting response... 303 See Other\n",
            "Location: https://doc-0k-1s-docs.googleusercontent.com/docs/securesc/ha0ro937gcuc7l7deffksulhg5h7mbp1/ck67ickofcnav22h5e0ihlp6kedjl51c/1664768475000/14334177730080324288/*/1WQ9KZ-St4BqUWkqYJZYBIXQ8tT92DW_2?e=download&uuid=3f9d2881-ae10-4cd5-9d8e-1cbc71a73db1 [following]\n",
            "Warning: wildcards not supported in HTTP.\n",
            "--2022-10-03 03:41:52--  https://doc-0k-1s-docs.googleusercontent.com/docs/securesc/ha0ro937gcuc7l7deffksulhg5h7mbp1/ck67ickofcnav22h5e0ihlp6kedjl51c/1664768475000/14334177730080324288/*/1WQ9KZ-St4BqUWkqYJZYBIXQ8tT92DW_2?e=download&uuid=3f9d2881-ae10-4cd5-9d8e-1cbc71a73db1\n",
            "Resolving doc-0k-1s-docs.googleusercontent.com (doc-0k-1s-docs.googleusercontent.com)... 74.125.197.132, 2607:f8b0:400e:c03::84\n",
            "Connecting to doc-0k-1s-docs.googleusercontent.com (doc-0k-1s-docs.googleusercontent.com)|74.125.197.132|:443... connected.\n",
            "HTTP request sent, awaiting response... 200 OK\n",
            "Length: 569872234 (543M) [application/x-zip-compressed]\n",
            "Saving to: ‘train.zip’\n",
            "\n",
            "train.zip           100%[===================>] 543.47M   195MB/s    in 2.8s    \n",
            "\n",
            "2022-10-03 03:41:55 (195 MB/s) - ‘train.zip’ saved [569872234/569872234]\n",
            "\n",
            "--2022-10-03 03:41:56--  https://drive.google.com/uc?export=download&confirm=t&id=1WQ9KZ-St4BqUWkqYJZYBIXQ8tT92DW_2\n",
            "Resolving drive.google.com (drive.google.com)... 173.194.203.100, 173.194.203.139, 173.194.203.113, ...\n",
            "Connecting to drive.google.com (drive.google.com)|173.194.203.100|:443... connected.\n",
            "HTTP request sent, awaiting response... 303 See Other\n",
            "Location: https://doc-0k-1s-docs.googleusercontent.com/docs/securesc/ha0ro937gcuc7l7deffksulhg5h7mbp1/ck67ickofcnav22h5e0ihlp6kedjl51c/1664768475000/14334177730080324288/*/1WQ9KZ-St4BqUWkqYJZYBIXQ8tT92DW_2?e=download&uuid=ea6036e0-1732-4219-8837-551ef67c9c61 [following]\n",
            "Warning: wildcards not supported in HTTP.\n",
            "--2022-10-03 03:41:56--  https://doc-0k-1s-docs.googleusercontent.com/docs/securesc/ha0ro937gcuc7l7deffksulhg5h7mbp1/ck67ickofcnav22h5e0ihlp6kedjl51c/1664768475000/14334177730080324288/*/1WQ9KZ-St4BqUWkqYJZYBIXQ8tT92DW_2?e=download&uuid=ea6036e0-1732-4219-8837-551ef67c9c61\n",
            "Resolving doc-0k-1s-docs.googleusercontent.com (doc-0k-1s-docs.googleusercontent.com)... 74.125.197.132, 2607:f8b0:400e:c03::84\n",
            "Connecting to doc-0k-1s-docs.googleusercontent.com (doc-0k-1s-docs.googleusercontent.com)|74.125.197.132|:443... connected.\n",
            "HTTP request sent, awaiting response... 200 OK\n",
            "Length: 569872234 (543M) [application/x-zip-compressed]\n",
            "Saving to: ‘test.zip’\n",
            "\n",
            "test.zip            100%[===================>] 543.47M   178MB/s    in 3.1s    \n",
            "\n",
            "2022-10-03 03:41:59 (178 MB/s) - ‘test.zip’ saved [569872234/569872234]\n",
            "\n"
          ]
        }
      ]
    },
    {
      "cell_type": "code",
      "source": [
        "from google.colab import drive\n",
        "drive.mount('/content/drive')"
      ],
      "metadata": {
        "colab": {
          "base_uri": "https://localhost:8080/"
        },
        "id": "g3Cl6d0Px541",
        "outputId": "5e5a1b66-1eb6-40ae-91fc-1bfcf68f62f8"
      },
      "execution_count": null,
      "outputs": [
        {
          "output_type": "stream",
          "name": "stdout",
          "text": [
            "Drive already mounted at /content/drive; to attempt to forcibly remount, call drive.mount(\"/content/drive\", force_remount=True).\n"
          ]
        }
      ]
    },
    {
      "cell_type": "code",
      "source": [
        "import os\n",
        "dir_path = \"/content/drive/My Drive/2022LATE\"\n",
        "os.makedirs(dir_path, exist_ok=True)\n",
        "!cp train.zip \"/content/drive/My Drive/2022LATE\""
      ],
      "metadata": {
        "id": "8TJdKcBwzdjm"
      },
      "execution_count": null,
      "outputs": []
    },
    {
      "cell_type": "code",
      "source": [
        "!cp \"content/drive/My Drive/2022LATE/train.zip\"\n",
        "\n",
        "!unzip -o -q \"train.zip\"\n",
        "print(\"zip解凍完了\")"
      ],
      "metadata": {
        "colab": {
          "base_uri": "https://localhost:8080/"
        },
        "id": "C_RlyBBx3TR2",
        "outputId": "7ee0fc40-4ad9-4e5c-ff30-4873197914a3"
      },
      "execution_count": null,
      "outputs": [
        {
          "output_type": "stream",
          "name": "stdout",
          "text": [
            "cp: missing destination file operand after 'content/drive/My Drive/2022LATE/train.zip'\n",
            "Try 'cp --help' for more information.\n",
            "zip解凍完了\n"
          ]
        }
      ]
    },
    {
      "cell_type": "code",
      "source": [
        "import pyplot as plt\n",
        "filename = \"train/cat.100.jpg\"\n",
        "plt.figure(filesize=(20,10))\n",
        "for i in range(1):\n",
        "  showing(filename, \"What's this??\", i+1)\n",
        "plt.show()\n",
        "predict(filename, 10)"
      ],
      "metadata": {
        "colab": {
          "base_uri": "https://localhost:8080/",
          "height": 394
        },
        "id": "2NODmDd95T0g",
        "outputId": "ef5bd9eb-27c5-4008-9ef2-eb9c33859829"
      },
      "execution_count": null,
      "outputs": [
        {
          "output_type": "error",
          "ename": "ModuleNotFoundError",
          "evalue": "ignored",
          "traceback": [
            "\u001b[0;31m---------------------------------------------------------------------------\u001b[0m",
            "\u001b[0;31mModuleNotFoundError\u001b[0m                       Traceback (most recent call last)",
            "\u001b[0;32m<ipython-input-23-95a99e796542>\u001b[0m in \u001b[0;36m<module>\u001b[0;34m\u001b[0m\n\u001b[0;32m----> 1\u001b[0;31m \u001b[0;32mimport\u001b[0m \u001b[0mpyplot\u001b[0m \u001b[0;32mas\u001b[0m \u001b[0mplt\u001b[0m\u001b[0;34m\u001b[0m\u001b[0;34m\u001b[0m\u001b[0m\n\u001b[0m\u001b[1;32m      2\u001b[0m \u001b[0mfilename\u001b[0m \u001b[0;34m=\u001b[0m \u001b[0;34m\"train/cat.100.jpg\"\u001b[0m\u001b[0;34m\u001b[0m\u001b[0;34m\u001b[0m\u001b[0m\n\u001b[1;32m      3\u001b[0m \u001b[0mplt\u001b[0m\u001b[0;34m.\u001b[0m\u001b[0mfigure\u001b[0m\u001b[0;34m(\u001b[0m\u001b[0mfilesize\u001b[0m\u001b[0;34m=\u001b[0m\u001b[0;34m(\u001b[0m\u001b[0;36m20\u001b[0m\u001b[0;34m,\u001b[0m\u001b[0;36m10\u001b[0m\u001b[0;34m)\u001b[0m\u001b[0;34m)\u001b[0m\u001b[0;34m\u001b[0m\u001b[0;34m\u001b[0m\u001b[0m\n\u001b[1;32m      4\u001b[0m \u001b[0;32mfor\u001b[0m \u001b[0mi\u001b[0m \u001b[0;32min\u001b[0m \u001b[0mrange\u001b[0m\u001b[0;34m(\u001b[0m\u001b[0;36m1\u001b[0m\u001b[0;34m)\u001b[0m\u001b[0;34m:\u001b[0m\u001b[0;34m\u001b[0m\u001b[0;34m\u001b[0m\u001b[0m\n\u001b[1;32m      5\u001b[0m   \u001b[0mshowing\u001b[0m\u001b[0;34m(\u001b[0m\u001b[0mfilename\u001b[0m\u001b[0;34m,\u001b[0m \u001b[0;34m\"What's this??\"\u001b[0m\u001b[0;34m,\u001b[0m \u001b[0mi\u001b[0m\u001b[0;34m+\u001b[0m\u001b[0;36m1\u001b[0m\u001b[0;34m)\u001b[0m\u001b[0;34m\u001b[0m\u001b[0;34m\u001b[0m\u001b[0m\n",
            "\u001b[0;31mModuleNotFoundError\u001b[0m: No module named 'pyplot'",
            "",
            "\u001b[0;31m---------------------------------------------------------------------------\u001b[0;32m\nNOTE: If your import is failing due to a missing package, you can\nmanually install dependencies using either !pip or !apt.\n\nTo view examples of installing some common dependencies, click the\n\"Open Examples\" button below.\n\u001b[0;31m---------------------------------------------------------------------------\u001b[0m\n"
          ],
          "errorDetails": {
            "actions": [
              {
                "action": "open_url",
                "actionText": "Open Examples",
                "url": "/notebooks/snippets/importing_libraries.ipynb"
              }
            ]
          }
        }
      ]
    },
    {
      "cell_type": "code",
      "source": [],
      "metadata": {
        "id": "hjBQucdN7V0V"
      },
      "execution_count": null,
      "outputs": []
    }
  ]
}