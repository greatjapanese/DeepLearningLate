{
  "nbformat": 4,
  "nbformat_minor": 0,
  "metadata": {
    "colab": {
      "provenance": [],
      "toc_visible": true,
      "authorship_tag": "ABX9TyP9vJCI3CGsxEqJuz1hu5Kh",
      "include_colab_link": true
    },
    "kernelspec": {
      "name": "python3",
      "display_name": "Python 3"
    },
    "language_info": {
      "name": "python"
    }
  },
  "cells": [
    {
      "cell_type": "markdown",
      "metadata": {
        "id": "view-in-github",
        "colab_type": "text"
      },
      "source": [
        "<a href=\"https://colab.research.google.com/github/greatjapanese/DeepLearningLate/blob/main/%E3%83%86%E3%82%B9%E3%83%880913_02.ipynb\" target=\"_parent\"><img src=\"https://colab.research.google.com/assets/colab-badge.svg\" alt=\"Open In Colab\"/></a>"
      ]
    },
    {
      "cell_type": "code",
      "source": [],
      "metadata": {
        "id": "M3ABaKkfzPT0"
      },
      "execution_count": null,
      "outputs": []
    },
    {
      "cell_type": "code",
      "source": [],
      "metadata": {
        "id": "WSdcFDCPZAjb"
      },
      "execution_count": null,
      "outputs": []
    },
    {
      "cell_type": "markdown",
      "source": [
        "#コレクション演算\n",
        "リスト、タプル、つまり順番がある集合のことをシーケンスという。順番がない集合を集合型（セット）という上記二種をまとめてコレクションを言う。コレクションは共通の演算が使えるlen（長さ、量を取得）、max（最大値を取得）min（最小値を取得）など"
      ],
      "metadata": {
        "id": "wxYKKA_wXlRD"
      }
    },
    {
      "cell_type": "markdown",
      "source": [],
      "metadata": {
        "id": "jaem_8UlaifX"
      }
    },
    {
      "cell_type": "markdown",
      "source": [
        "##辞書型(dictionary)"
      ],
      "metadata": {
        "id": "8_jbGPeTzUU-"
      }
    },
    {
      "cell_type": "code",
      "source": [
        "list = [1,1,2,3,4,5]\n",
        "tuple = (10,9,7,7,8,8,9)\n",
        "set = (1,-2,3,-4,5,-6,7,-8)"
      ],
      "metadata": {
        "id": "b8W2lXaaXhWp"
      },
      "execution_count": 1,
      "outputs": []
    },
    {
      "cell_type": "code",
      "source": [
        "#リストの長さ、最大値、最小値\n",
        "print(len(list),max(list),min(list))\n",
        "#タプルの長さ、最大値、最小値\n",
        "print(len(tuple),max(tuple),min(tuple))\n",
        "#セットの長さ、最大値、最小値\n",
        "print(len(set),max(set),min(set))"
      ],
      "metadata": {
        "id": "fesVhROBzbBc",
        "colab": {
          "base_uri": "https://localhost:8080/"
        },
        "outputId": "367922f6-d4ac-4d78-81cc-bd4ad8ea393a"
      },
      "execution_count": 2,
      "outputs": [
        {
          "output_type": "stream",
          "name": "stdout",
          "text": [
            "6 5 1\n",
            "7 10 7\n",
            "8 7 -8\n"
          ]
        }
      ]
    },
    {
      "cell_type": "markdown",
      "source": [
        "##辞書型の定義文　\n",
        "　\n",
        "\n",
        "\n"
      ],
      "metadata": {
        "id": "FcpzISJnzc0K"
      }
    },
    {
      "cell_type": "code",
      "source": [
        "dict = {'アップル':1, 'ペン':2, 'パイナップル':3}\n",
        "print(dict)\n",
        "print(dict.keys())"
      ],
      "metadata": {
        "colab": {
          "base_uri": "https://localhost:8080/"
        },
        "id": "uhmdabIKzjMa",
        "outputId": "e57ea788-3c2e-48e9-fef9-f6d9e621ff14"
      },
      "execution_count": null,
      "outputs": [
        {
          "output_type": "stream",
          "name": "stdout",
          "text": [
            "{'アップル': 1, 'ペン': 2, 'パイナップル': 3}\n",
            "dict_keys(['アップル', 'ペン', 'パイナップル'])\n"
          ]
        }
      ]
    },
    {
      "cell_type": "code",
      "source": [
        "print(dict)\n",
        "dict['バナナ'] = 5\n",
        "print(dict)"
      ],
      "metadata": {
        "colab": {
          "base_uri": "https://localhost:8080/"
        },
        "id": "7-bTU9A10XyC",
        "outputId": "148e86b8-db67-47c7-a3e8-5cb4482c29f4"
      },
      "execution_count": null,
      "outputs": [
        {
          "output_type": "stream",
          "name": "stdout",
          "text": [
            "{'アップル': 1, 'ペン': 2, 'パイナップル': 3}\n",
            "{'アップル': 1, 'ペン': 2, 'パイナップル': 3, 'バナナ': 5}\n"
          ]
        }
      ]
    },
    {
      "cell_type": "code",
      "source": [
        "dict['バナナ'] = 100\n",
        "print(dict)"
      ],
      "metadata": {
        "colab": {
          "base_uri": "https://localhost:8080/"
        },
        "id": "1prqN9kz28AQ",
        "outputId": "23dc424a-9099-4970-e0bf-7cba17722b82"
      },
      "execution_count": null,
      "outputs": [
        {
          "output_type": "stream",
          "name": "stdout",
          "text": [
            "{'アップル': 1, 'ペン': 2, 'パイナップル': 3, 'バナナ': 100}\n"
          ]
        }
      ]
    },
    {
      "cell_type": "code",
      "source": [
        "dict.pop('バナナ')\n",
        "print(dict)"
      ],
      "metadata": {
        "colab": {
          "base_uri": "https://localhost:8080/"
        },
        "id": "SZ1v8ORI3wnY",
        "outputId": "02f2aedb-beac-4f23-b959-f5c9731ca5a5"
      },
      "execution_count": null,
      "outputs": [
        {
          "output_type": "stream",
          "name": "stdout",
          "text": [
            "{'アップル': 1, 'ペン': 2, 'パイナップル': 3}\n"
          ]
        }
      ]
    },
    {
      "cell_type": "code",
      "source": [],
      "metadata": {
        "id": "Dc5CX00N32p0"
      },
      "execution_count": null,
      "outputs": []
    },
    {
      "cell_type": "markdown",
      "source": [
        "##文字列の整形\n",
        "#文字列の連結と繰り返し"
      ],
      "metadata": {
        "id": "iMAVU3f846g3"
      }
    },
    {
      "cell_type": "code",
      "source": [
        "###文字列の連結方法\n",
        "apple = 'アップル'\n",
        "pen = 'ペン'\n",
        "print(apple + pen)\n"
      ],
      "metadata": {
        "colab": {
          "base_uri": "https://localhost:8080/"
        },
        "id": "3MSJ8IaN5ClJ",
        "outputId": "6b6f1041-a150-4c50-bd69-8db82c6e129f"
      },
      "execution_count": null,
      "outputs": [
        {
          "output_type": "stream",
          "name": "stdout",
          "text": [
            "アップルペン\n"
          ]
        }
      ]
    },
    {
      "cell_type": "code",
      "source": [
        "#　文字列の連結方法②配列を文字連結する\n",
        "piko = ['ペン','パイナップル','アップル','ペン']\n",
        "#printメソッドで連結して表示　例:,で連結\n",
        "print( ',' .join(piko))"
      ],
      "metadata": {
        "colab": {
          "base_uri": "https://localhost:8080/"
        },
        "id": "24F5ghvT5QMq",
        "outputId": "3b965357-f2dd-4df7-f37b-ddf6768bbd6b"
      },
      "execution_count": null,
      "outputs": [
        {
          "output_type": "stream",
          "name": "stdout",
          "text": [
            "ペン,パイナップル,アップル,ペン\n"
          ]
        }
      ]
    },
    {
      "cell_type": "code",
      "source": [],
      "metadata": {
        "id": "QictQOyC6F3v"
      },
      "execution_count": null,
      "outputs": []
    },
    {
      "cell_type": "markdown",
      "source": [
        "文字列の整形（フォーマット）"
      ],
      "metadata": {
        "id": "W3OWxoDG7AtV"
      }
    },
    {
      "cell_type": "code",
      "source": [
        "##定式で指定した形のメッセージにする\n",
        "print('{}{}:{}円')\n",
        "print('{}{}:{}円'.format('アップル','ペン',100))\n",
        "\n"
      ],
      "metadata": {
        "id": "cR5IaMWv7FWH"
      },
      "execution_count": null,
      "outputs": []
    }
  ]
}